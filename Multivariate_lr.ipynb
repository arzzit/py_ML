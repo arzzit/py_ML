{
 "cells": [
  {
   "cell_type": "code",
   "execution_count": 3,
   "id": "ba4024df",
   "metadata": {},
   "outputs": [],
   "source": [
    "import matplotlib.pyplot as plt\n",
    "from sklearn import datasets"
   ]
  },
  {
   "cell_type": "code",
   "execution_count": 4,
   "id": "d73ad31c",
   "metadata": {},
   "outputs": [],
   "source": [
    "iris = datasets.load_iris()"
   ]
  },
  {
   "cell_type": "code",
   "execution_count": 5,
   "id": "22348f36",
   "metadata": {},
   "outputs": [
    {
     "data": {
      "text/plain": [
       "['DESCR',\n",
       " 'data',\n",
       " 'feature_names',\n",
       " 'filename',\n",
       " 'frame',\n",
       " 'target',\n",
       " 'target_names']"
      ]
     },
     "execution_count": 5,
     "metadata": {},
     "output_type": "execute_result"
    }
   ],
   "source": [
    "dir(iris)"
   ]
  },
  {
   "cell_type": "code",
   "execution_count": 14,
   "id": "ab8abfdc",
   "metadata": {},
   "outputs": [],
   "source": [
    "X= iris.data[65]"
   ]
  },
  {
   "cell_type": "code",
   "execution_count": 15,
   "id": "4cc93e0e",
   "metadata": {},
   "outputs": [
    {
     "data": {
      "text/plain": [
       "array([6.7, 3.1, 4.4, 1.4])"
      ]
     },
     "execution_count": 15,
     "metadata": {},
     "output_type": "execute_result"
    }
   ],
   "source": [
    "X"
   ]
  },
  {
   "cell_type": "code",
   "execution_count": 18,
   "id": "4a2ea712",
   "metadata": {},
   "outputs": [
    {
     "data": {
      "text/plain": [
       "0"
      ]
     },
     "execution_count": 18,
     "metadata": {},
     "output_type": "execute_result"
    }
   ],
   "source": [
    "iris.target[9]"
   ]
  },
  {
   "cell_type": "code",
   "execution_count": 23,
   "id": "958e470b",
   "metadata": {},
   "outputs": [
    {
     "data": {
      "text/plain": [
       "'*'"
      ]
     },
     "execution_count": 23,
     "metadata": {},
     "output_type": "execute_result"
    }
   ],
   "source": [
    "iris.DESCR[89]"
   ]
  },
  {
   "cell_type": "code",
   "execution_count": 28,
   "id": "ea46f5ad",
   "metadata": {},
   "outputs": [
    {
     "data": {
      "text/plain": [
       "'sepal width (cm)'"
      ]
     },
     "execution_count": 28,
     "metadata": {},
     "output_type": "execute_result"
    }
   ],
   "source": [
    "iris.feature_names[1]"
   ]
  },
  {
   "cell_type": "code",
   "execution_count": 29,
   "id": "199910c3",
   "metadata": {},
   "outputs": [
    {
     "data": {
      "text/plain": [
       "'\\\\'"
      ]
     },
     "execution_count": 29,
     "metadata": {},
     "output_type": "execute_result"
    }
   ],
   "source": [
    "iris.filename[2]"
   ]
  },
  {
   "cell_type": "code",
   "execution_count": 40,
   "id": "bd17f72f",
   "metadata": {},
   "outputs": [
    {
     "data": {
      "text/plain": [
       "'virginica'"
      ]
     },
     "execution_count": 40,
     "metadata": {},
     "output_type": "execute_result"
    }
   ],
   "source": [
    "iris.target_names[2]"
   ]
  },
  {
   "cell_type": "code",
   "execution_count": 41,
   "id": "d49ff6fe",
   "metadata": {},
   "outputs": [],
   "source": [
    "iris.frame"
   ]
  },
  {
   "cell_type": "code",
   "execution_count": 42,
   "id": "a22ab2b9",
   "metadata": {},
   "outputs": [],
   "source": [
    "from sklearn.model_selection import train_test_split"
   ]
  },
  {
   "cell_type": "code",
   "execution_count": 50,
   "id": "8bd18d49",
   "metadata": {},
   "outputs": [],
   "source": [
    "(X_train,X_test,Y_train,Y_test)=train_test_split(iris.data,iris.target,test_size=0.2)"
   ]
  },
  {
   "cell_type": "code",
   "execution_count": 51,
   "id": "c42a4ae4",
   "metadata": {},
   "outputs": [
    {
     "data": {
      "text/plain": [
       "array([[5.6, 2.9, 3.6, 1.3],\n",
       "       [5.8, 2.7, 5.1, 1.9],\n",
       "       [5. , 3.4, 1.5, 0.2],\n",
       "       [6.2, 2.2, 4.5, 1.5],\n",
       "       [6.3, 2.7, 4.9, 1.8],\n",
       "       [5.8, 2.6, 4. , 1.2],\n",
       "       [5.5, 2.4, 3.7, 1. ],\n",
       "       [4.9, 3. , 1.4, 0.2],\n",
       "       [6.7, 2.5, 5.8, 1.8],\n",
       "       [6.1, 2.9, 4.7, 1.4],\n",
       "       [5. , 2. , 3.5, 1. ],\n",
       "       [5.2, 2.7, 3.9, 1.4],\n",
       "       [7.7, 2.6, 6.9, 2.3],\n",
       "       [5.5, 3.5, 1.3, 0.2],\n",
       "       [4.8, 3.4, 1.9, 0.2],\n",
       "       [5.1, 2.5, 3. , 1.1],\n",
       "       [6. , 2.9, 4.5, 1.5],\n",
       "       [6.4, 2.9, 4.3, 1.3],\n",
       "       [4.9, 2.5, 4.5, 1.7],\n",
       "       [7.4, 2.8, 6.1, 1.9],\n",
       "       [7.3, 2.9, 6.3, 1.8],\n",
       "       [6.4, 3.2, 5.3, 2.3],\n",
       "       [5.5, 2.6, 4.4, 1.2],\n",
       "       [6.1, 2.8, 4.7, 1.2],\n",
       "       [5.4, 3.4, 1.7, 0.2],\n",
       "       [4.7, 3.2, 1.3, 0.2],\n",
       "       [6.1, 3. , 4.9, 1.8],\n",
       "       [5.5, 4.2, 1.4, 0.2],\n",
       "       [5.1, 3.5, 1.4, 0.2],\n",
       "       [4.7, 3.2, 1.6, 0.2],\n",
       "       [6.7, 3. , 5. , 1.7],\n",
       "       [5.5, 2.4, 3.8, 1.1],\n",
       "       [5.5, 2.5, 4. , 1.3],\n",
       "       [7.9, 3.8, 6.4, 2. ],\n",
       "       [5. , 3.5, 1.6, 0.6],\n",
       "       [5.7, 3.8, 1.7, 0.3],\n",
       "       [5.4, 3.9, 1.3, 0.4],\n",
       "       [5.4, 3.7, 1.5, 0.2],\n",
       "       [6.1, 3. , 4.6, 1.4],\n",
       "       [6.5, 3.2, 5.1, 2. ],\n",
       "       [6.7, 3.1, 5.6, 2.4],\n",
       "       [6.5, 3. , 5.5, 1.8],\n",
       "       [5.9, 3. , 4.2, 1.5],\n",
       "       [7.7, 2.8, 6.7, 2. ],\n",
       "       [6.5, 3. , 5.2, 2. ],\n",
       "       [4.9, 3.1, 1.5, 0.1],\n",
       "       [6.7, 3. , 5.2, 2.3],\n",
       "       [4.4, 3.2, 1.3, 0.2],\n",
       "       [6.7, 3.1, 4.4, 1.4],\n",
       "       [4.4, 3. , 1.3, 0.2],\n",
       "       [6.7, 3.3, 5.7, 2.1],\n",
       "       [6.9, 3.1, 4.9, 1.5],\n",
       "       [7.2, 3.6, 6.1, 2.5],\n",
       "       [6. , 3.4, 4.5, 1.6],\n",
       "       [6.3, 2.8, 5.1, 1.5],\n",
       "       [5.8, 2.7, 3.9, 1.2],\n",
       "       [5.8, 4. , 1.2, 0.2],\n",
       "       [6. , 2.2, 5. , 1.5],\n",
       "       [4.9, 3.1, 1.5, 0.2],\n",
       "       [6.4, 2.8, 5.6, 2.1],\n",
       "       [5. , 2.3, 3.3, 1. ],\n",
       "       [5.6, 2.7, 4.2, 1.3],\n",
       "       [5.1, 3.7, 1.5, 0.4],\n",
       "       [6.9, 3.1, 5.1, 2.3],\n",
       "       [5.5, 2.3, 4. , 1.3],\n",
       "       [6.5, 2.8, 4.6, 1.5],\n",
       "       [6.4, 2.8, 5.6, 2.2],\n",
       "       [4.9, 3.6, 1.4, 0.1],\n",
       "       [5.6, 3. , 4.5, 1.5],\n",
       "       [6.3, 2.5, 4.9, 1.5],\n",
       "       [5.2, 3.5, 1.5, 0.2],\n",
       "       [4.4, 2.9, 1.4, 0.2],\n",
       "       [5.6, 3. , 4.1, 1.3],\n",
       "       [6.2, 2.9, 4.3, 1.3],\n",
       "       [5.8, 2.8, 5.1, 2.4],\n",
       "       [6.3, 2.3, 4.4, 1.3],\n",
       "       [6.1, 2.6, 5.6, 1.4],\n",
       "       [6.4, 2.7, 5.3, 1.9],\n",
       "       [5.4, 3. , 4.5, 1.5],\n",
       "       [5.6, 2.8, 4.9, 2. ],\n",
       "       [4.8, 3.1, 1.6, 0.2],\n",
       "       [7.7, 3. , 6.1, 2.3],\n",
       "       [5.4, 3.9, 1.7, 0.4],\n",
       "       [6. , 2.2, 4. , 1. ],\n",
       "       [7.2, 3.2, 6. , 1.8],\n",
       "       [5. , 3.5, 1.3, 0.3],\n",
       "       [7.7, 3.8, 6.7, 2.2],\n",
       "       [5.1, 3.8, 1.6, 0.2],\n",
       "       [5. , 3.2, 1.2, 0.2],\n",
       "       [5.3, 3.7, 1.5, 0.2],\n",
       "       [6.6, 3. , 4.4, 1.4],\n",
       "       [5.4, 3.4, 1.5, 0.4],\n",
       "       [4.6, 3.1, 1.5, 0.2],\n",
       "       [6.9, 3.1, 5.4, 2.1],\n",
       "       [6.5, 3. , 5.8, 2.2],\n",
       "       [4.9, 2.4, 3.3, 1. ],\n",
       "       [6.7, 3.3, 5.7, 2.5],\n",
       "       [7.1, 3. , 5.9, 2.1],\n",
       "       [4.6, 3.6, 1. , 0.2],\n",
       "       [5. , 3.3, 1.4, 0.2],\n",
       "       [5.7, 2.8, 4.5, 1.3],\n",
       "       [5.1, 3.3, 1.7, 0.5],\n",
       "       [6. , 2.7, 5.1, 1.6],\n",
       "       [6.6, 2.9, 4.6, 1.3],\n",
       "       [5.7, 4.4, 1.5, 0.4],\n",
       "       [6.4, 3.2, 4.5, 1.5],\n",
       "       [6.2, 3.4, 5.4, 2.3],\n",
       "       [6.3, 2.5, 5. , 1.9],\n",
       "       [4.5, 2.3, 1.3, 0.3],\n",
       "       [4.6, 3.2, 1.4, 0.2],\n",
       "       [6.3, 3.4, 5.6, 2.4],\n",
       "       [5.1, 3.8, 1.9, 0.4],\n",
       "       [6.8, 3. , 5.5, 2.1],\n",
       "       [5.1, 3.8, 1.5, 0.3],\n",
       "       [6.7, 3.1, 4.7, 1.5],\n",
       "       [5.2, 4.1, 1.5, 0.1],\n",
       "       [5.6, 2.5, 3.9, 1.1],\n",
       "       [5.7, 2.5, 5. , 2. ],\n",
       "       [6.2, 2.8, 4.8, 1.8],\n",
       "       [4.8, 3. , 1.4, 0.3]])"
      ]
     },
     "execution_count": 51,
     "metadata": {},
     "output_type": "execute_result"
    }
   ],
   "source": [
    "X_train"
   ]
  },
  {
   "cell_type": "code",
   "execution_count": 52,
   "id": "975347b5",
   "metadata": {},
   "outputs": [
    {
     "data": {
      "text/plain": [
       "array([0, 0, 2, 2, 2, 1, 1, 0, 1, 0, 1, 1, 2, 1, 0, 2, 0, 1, 2, 0, 2, 0,\n",
       "       0, 2, 2, 1, 0, 2, 1, 1])"
      ]
     },
     "execution_count": 52,
     "metadata": {},
     "output_type": "execute_result"
    }
   ],
   "source": [
    "Y_test"
   ]
  },
  {
   "cell_type": "code",
   "execution_count": 53,
   "id": "65df6ce3",
   "metadata": {},
   "outputs": [
    {
     "data": {
      "text/plain": [
       "array([1, 2, 0, 1, 2, 1, 1, 0, 2, 1, 1, 1, 2, 0, 0, 1, 1, 1, 2, 2, 2, 2,\n",
       "       1, 1, 0, 0, 2, 0, 0, 0, 1, 1, 1, 2, 0, 0, 0, 0, 1, 2, 2, 2, 1, 2,\n",
       "       2, 0, 2, 0, 1, 0, 2, 1, 2, 1, 2, 1, 0, 2, 0, 2, 1, 1, 0, 2, 1, 1,\n",
       "       2, 0, 1, 1, 0, 0, 1, 1, 2, 1, 2, 2, 1, 2, 0, 2, 0, 1, 2, 0, 2, 0,\n",
       "       0, 0, 1, 0, 0, 2, 2, 1, 2, 2, 0, 0, 1, 0, 1, 1, 0, 1, 2, 2, 0, 0,\n",
       "       2, 0, 2, 0, 1, 0, 1, 2, 2, 0])"
      ]
     },
     "execution_count": 53,
     "metadata": {},
     "output_type": "execute_result"
    }
   ],
   "source": [
    "Y_train"
   ]
  },
  {
   "cell_type": "code",
   "execution_count": 54,
   "id": "720dc386",
   "metadata": {},
   "outputs": [],
   "source": [
    "from sklearn.linear_model import LogisticRegression"
   ]
  },
  {
   "cell_type": "code",
   "execution_count": 55,
   "id": "5845f76d",
   "metadata": {},
   "outputs": [],
   "source": [
    "lr = LogisticRegression()"
   ]
  },
  {
   "cell_type": "code",
   "execution_count": 56,
   "id": "6901c91d",
   "metadata": {},
   "outputs": [
    {
     "name": "stderr",
     "output_type": "stream",
     "text": [
      "c:\\users\\hp\\appdata\\local\\programs\\python\\python38-32\\lib\\site-packages\\sklearn\\linear_model\\_logistic.py:763: ConvergenceWarning: lbfgs failed to converge (status=1):\n",
      "STOP: TOTAL NO. of ITERATIONS REACHED LIMIT.\n",
      "\n",
      "Increase the number of iterations (max_iter) or scale the data as shown in:\n",
      "    https://scikit-learn.org/stable/modules/preprocessing.html\n",
      "Please also refer to the documentation for alternative solver options:\n",
      "    https://scikit-learn.org/stable/modules/linear_model.html#logistic-regression\n",
      "  n_iter_i = _check_optimize_result(\n"
     ]
    },
    {
     "data": {
      "text/plain": [
       "LogisticRegression()"
      ]
     },
     "execution_count": 56,
     "metadata": {},
     "output_type": "execute_result"
    }
   ],
   "source": [
    "lr.fit(X_train,Y_train)"
   ]
  },
  {
   "cell_type": "code",
   "execution_count": 65,
   "id": "87628741",
   "metadata": {},
   "outputs": [
    {
     "data": {
      "text/plain": [
       "array([2])"
      ]
     },
     "execution_count": 65,
     "metadata": {},
     "output_type": "execute_result"
    }
   ],
   "source": [
    "lr.predict([[56,48,12,555]])"
   ]
  },
  {
   "cell_type": "code",
   "execution_count": 67,
   "id": "1132e413",
   "metadata": {},
   "outputs": [
    {
     "data": {
      "text/plain": [
       "0.975"
      ]
     },
     "execution_count": 67,
     "metadata": {},
     "output_type": "execute_result"
    }
   ],
   "source": [
    "lr.score(X_train,Y_train)"
   ]
  },
  {
   "cell_type": "code",
   "execution_count": 72,
   "id": "305bb7ad",
   "metadata": {},
   "outputs": [],
   "source": [
    "y_predict = lr.predict(X_test)\n",
    "from sklearn.metrics import confusion_matrix"
   ]
  },
  {
   "cell_type": "code",
   "execution_count": 74,
   "id": "f6692e67",
   "metadata": {},
   "outputs": [],
   "source": [
    "cm = confusion_matrix(Y_test,y_predict)"
   ]
  },
  {
   "cell_type": "code",
   "execution_count": 75,
   "id": "bbcd966b",
   "metadata": {},
   "outputs": [
    {
     "data": {
      "text/plain": [
       "array([[10,  0,  0],\n",
       "       [ 0,  9,  1],\n",
       "       [ 0,  0, 10]], dtype=int64)"
      ]
     },
     "execution_count": 75,
     "metadata": {},
     "output_type": "execute_result"
    }
   ],
   "source": [
    "cm"
   ]
  },
  {
   "cell_type": "code",
   "execution_count": 76,
   "id": "f8e53e59",
   "metadata": {},
   "outputs": [],
   "source": [
    "import seaborn as s"
   ]
  },
  {
   "cell_type": "code",
   "execution_count": 86,
   "id": "ac3dff66",
   "metadata": {},
   "outputs": [
    {
     "data": {
      "text/plain": [
       "<Figure size 14400x4032 with 0 Axes>"
      ]
     },
     "execution_count": 86,
     "metadata": {},
     "output_type": "execute_result"
    },
    {
     "data": {
      "image/png": "[encoded data removed]",
      "text/plain": [
       "<Figure size 432x288 with 2 Axes>"
      ]
     },
     "metadata": {
      "needs_background": "light"
     },
     "output_type": "display_data"
    },
    {
     "data": {
      "text/plain": [
       "<Figure size 14400x4032 with 0 Axes>"
      ]
     },
     "metadata": {},
     "output_type": "display_data"
    }
   ],
   "source": [
    "s.heatmap(cm,annot=True)\n",
    "plt.figure(figsize=(200,56))\n"
   ]
  },
  {
   "cell_type": "code",
   "execution_count": null,
   "id": "db43ad25",
   "metadata": {},
   "outputs": [],
   "source": []
  }
 ],
 "metadata": {
  "kernelspec": {
   "display_name": "Python 3",
   "language": "python",
   "name": "python3"
  },
  "language_info": {
   "codemirror_mode": {
    "name": "ipython",
    "version": 3
   },
   "file_extension": ".py",
   "mimetype": "text/x-python",
   "name": "python",
   "nbconvert_exporter": "python",
   "pygments_lexer": "ipython3",
   "version": "3.8.5"
  }
 },
 "nbformat": 4,
 "nbformat_minor": 5
}
